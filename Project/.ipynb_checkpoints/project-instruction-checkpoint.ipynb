{
 "cells": [
  {
   "cell_type": "markdown",
   "metadata": {},
   "source": [
    "# Table of Contents\n",
    "* [Final Project: Human Computation + X](#Final-Project:-Human-Computation-+-X)\n",
    "\t* [Project Overview](#Project-Overview)\n",
    "\t* [Types of Projects](#Types-of-Projects)\n",
    "\t\t* [1. Survey](#1.-Survey)\n",
    "\t\t* [2. Research](#2.-Research)\n",
    "\t\t* [3. Programming](#3.-Programming)\n",
    "\t* [Final Note](#Final-Note)\n"
   ]
  },
  {
   "cell_type": "markdown",
   "metadata": {},
   "source": [
    "# Final Project: Big Data Systems"
   ]
  },
  {
   "cell_type": "markdown",
   "metadata": {},
   "source": [
    "## Project Overview"
   ]
  },
  {
   "cell_type": "markdown",
   "metadata": {},
   "source": [
    "Given that the database community has been working on (big) data management for decades, it is natural to ask the question that what's novel about Big Data systems. This is the key question we aim to obtain the answers from this graduate seminar. In this final project, you can show off what you have learnt from two aspects: (1) Contribute to an open-source data system; (2) Write down your personal view of big data systems. \n",
    "\n",
    "\n",
    "Please choose **ONE** project type, and follow the following steps to do the project: \n",
    "\n",
    "1. Form a team of **1-3** persons\n",
    "2. Pick up a project type and submit an initial plan\n",
    "3. Present your project in the poster session\n",
    "4. Submit your paper and code repo \n"
   ]
  },
  {
   "cell_type": "markdown",
   "metadata": {},
   "source": [
    "The table below summarized the deadline for each phase:  "
   ]
  },
  {
   "cell_type": "markdown",
   "metadata": {},
   "source": [
    "\n",
    "\n",
    "ID |   <center>What</center>  |    <center>When</center>  |  <center>Where</center>\n",
    "-- | ------------------------ | ------------------------- | ------------------\n",
    "1  |  Form a Team             |  Sunday 10/23 at 11:59pm  |  Create your team in [CourSys](https://courses.cs.sfu.ca/2016fa-cmpt-884-g1/groups/)\n",
    "2  |  Initial Plan             |  Friday 11/04 at 11:59pm  |  Submit the filled form to the CourSys activity [Initial Plan](https://courses.cs.sfu.ca/2016fa-cmpt-884-g1/+plan/) \n",
    "3  |  Poster Session             |  Wednesday 12/07 at 08:00am <br / > Wednesday 12/07 at 03:00pm | Submit your poster to the CourSys activity [Poster](https://courses.cs.sfu.ca/2016fa-cmpt-884-g1/+poster/) <br />Present your poster at T9204 W&E\n",
    "4  |  Paper            |  Monday  12/12 at 11:59pm | Submit the paper to the CourSys activity [Paper](https://courses.cs.sfu.ca/2016fa-cmpt-884-g1/+paper/)\n",
    "                                                              \n",
    "\n"
   ]
  },
  {
   "cell_type": "markdown",
   "metadata": {},
   "source": [
    "## Types of Projects"
   ]
  },
  {
   "cell_type": "markdown",
   "metadata": {},
   "source": [
    "Please choose one project type, and follow the corresponding instruction to do the project. \n",
    "### 1. Write a paper about your personal view of big data systems"
   ]
  },
  {
   "cell_type": "markdown",
   "metadata": {},
   "source": [
    "From a functionality point of view, big data systems are quite similar to traditional RDBMS because both of them are designed to better store and process data. But, why do people get more exicted about big data systems than traditional RDBMS right now? After this graduate semester, I believe everyone can form your opinion about this question. \n",
    "\n",
    "If your final project is to write a paper about your personal view of big data systems, the paper should consist of two parts:\n",
    "\n",
    " * In the first part (at least 5 pages), you need to list all the aspects in which you think big data systems are different from traditional RDBMS. For each aspect, you need to come up with a list of questions and answer each of them in detail. For example, if you think \"flexiblity\" is one aspect, you need to present why you think big data systems are more flexible, what are the key ideas/techniques that make them more flexible, why you think being flexible is very important, what they sacrifice for being flexible, and is it hard to make tradtional RDBMS as flexible as big data systems?      \n",
    " \n",
    " * In the second part (at least 7 pages), you need to pick up one specific topic (e.g., Query Optimization, Transaction Management, In-memory Database, Large-Scale Dataflow Engines), and do a survey on this topic. Here are a list of steps you need to do: \n",
    "    1. **Collecting Related Papers.** Please follow the instruction in this [paper (Sec 3)](https://sfu-db.github.io/cmpt884-fall16/Papers/How%20to%20Read%20a%20Paper.pdf) to find related papers on the topic.\n",
    "    2. **Reading Papers.** You should read at least 20-40 papers in order to write a good survey paper. After reading the papers, please *make sure* that you are completely aware of the main research themes, trends, challenges/issues, and results of the topic.\n",
    "    3. **Designing a Classification Criteria.** <font color=\"red\">Determine the classification of the existing literature</font>, and draw a diagram for that. You can get an idea about what the diagram looks like from these examples ([Table 1](https://sfu-db.github.io/cmpt884-fall16/Papers/stream-data-survey.pdf), [Fig 2](https://sfu-db.github.io/cmpt884-fall16/Papers/schema-matching-survey.pdf), [Fig 1](https://sfu-db.github.io/cmpt884-fall16/Papers/tkde16-crowdsurvey.pdf)). \n",
    "    4. **Identifying Pros and Cons.** Map the collected papers to their corresponding classes. Compare different classes, and identify the pros/cons of each class. \n",
    "    5. **Predicting Future Trends.** Think about what problems on this topic should be paid more attention in the future, and why they are challenging? \n",
    "    \n",
    "    \n",
    "Here is a suggested outline of the paper. You don't have to use it, but the paper has to cover the materials mentioned above.\n",
    " * Abstract\n",
    " * Introduction\n",
    " * A High-level Comparison: RDBMS vs. Big Data Systems\n",
    "  * RDBMS Overview\n",
    "  * Big Data Systems Overview\n",
    "  * RDBMS vs. Big Data Systems\n",
    "    * Aspect 1\n",
    "    * Aspect 2\n",
    "    * ...\n",
    " * Deep Dive into Query Optimization (replace with the specific topic you choose)\n",
    "  * Background and Problem Statement\n",
    "  * Classification Criteria\n",
    "  * Presentation of Class 1, Class 2, ...\n",
    "  * Comparisons of Classes (pron/cons)\n",
    "  * Emerging Trends\n",
    " * Conclusion\n",
    "\n",
    "    \n",
    "    \n"
   ]
  },
  {
   "cell_type": "markdown",
   "metadata": {},
   "source": [
    "**Submission**\n",
    "\n",
    "* <u>Initial Plan</u>: Download the Initial Plan [form template](https://docs.google.com/document/d/1cHTsx2sMqFrFz6zpRYu09YaTHz9Vm6u052qShK6zuiQ/edit?usp=sharing), and submit the filled form to the CourSys activity Initial Plan. \n",
    "* <u>Poster Session</u>: Make a poster to present your paper. The poster session is scheduled at 03:00 pm on Wednesday 12/07. Please upload your poster to the CourSys activity Poster before 08:00 am. \n",
    "* <u>Paper</u>:  Write the paper using the templates provided at https://www.acm.org/publications/proceedings-template for Word and LaTeX (version 2e). That is, the format of your paper should be like [this](https://www.acm.org/binaries/content/assets/publications/article-templates/sig-alternate-sample.pdf). The paper has to be <font color=\"red\"> at least 5+7 pages (excluding references)</font>. "
   ]
  },
  {
   "cell_type": "markdown",
   "metadata": {},
   "source": [
    "### 2. Contribute to an open-source data system"
   ]
  },
  {
   "cell_type": "markdown",
   "metadata": {},
   "source": [
    "This is the best time for being a data system programmer. Almost all the mainstream big data systems are open sourced. As a data system programmer, you can not only learn how the systems work by directly reading their source code, but also make a contribution to the systems (e.g., adding a new feature or fixing a bug). Being a contributor to an open-source project can be highly rewarding. \n",
    "\n",
    "If your final project is to contribute to an open-source data system, here are a list of steps you need to do.\n",
    "\n",
    "1. **Which system to choose.** Any project on this [page](https://github.com/onurakpolat/awesome-bigdata) or this [page](http://usefulstuff.io/big-data/) will work. If the project you want to contribute to is not on these pages, you can still choose it if it is a popular project at github (with 100+ stars) and also belongs to one of the categories listed on the [outline](https://github.com/onurakpolat/awesome-bigdata#awesome-bigdata) (e.g., Distributed Programming, Key-Map Data Model). \n",
    "2. **How to contribute.** A good open-source project will have a detailed documentation to explain how to make a contribution (e.g. [Contributing to Spark](http://spark.apache.org/contributing.html)). Try to find the corresponding doc for the project you want to contribute to. In fact, it is similar to [uploading your slides to our course website](https://docs.google.com/document/d/16SnmjVV7tPULGl6e4T8zR2EhsRT63ys_-IgfMzhyq4o/edit). \n",
    "3. **What to contribute.** Most open-source projects use JIRA to track issues. For example, you can find the issues of Spark from [here](https://issues.apache.org/jira/browse/SPARK). An issue is either a bug or an improvement. Please feel free to choose any issue from JIRA and work on it.\n",
    "4. **What is a successful contribution.** Due to time constraint, I do not expect you to get your contribution (i.e., pull request) accepted by the open-source community. You can demonstration to me your contribution during the poster session. For example, you can first show how the system behaves abnormally without your contribution, and then present how your contribution can resolve the abnormal behavior.   \n",
    "5. **Paper Writing.** Here is a suggested outline of the paper. \n",
    "    * Introduction: A brief introduction of the project you contribute to\n",
    "    * Issue Description: A short description of the issue you resolve\n",
    "    * Your Contribution: This is the most important part. Explain clearly how you resolve the issue\n",
    "    * What you have learnt: Anything you've learnt from this experience\n",
    "\n",
    "**Submission**\n",
    "\n",
    "* <u>Initial Plan</u>: Download the Initial Plan [form template](https://docs.google.com/document/d/1eGYtq79HZhE5TRLJ4ehvrF1jAD_OyMEzIOB_-aGs2Uk/edit?usp=sharing), and submit the filled form to the CourSys activity Initial Plan. \n",
    "* <u>Poster Session</u>*: You are not only required to make a poster, but also demonstrate the system during the poster session. The poster session is scheduled at 02:00 pm on Monday 4/10. Please upload your poster to the CourSys activity Poster before 10:00 am. \n",
    "* <u>Paper</u>:  Write the paper using the templates provided at https://www.acm.org/publications/proceedings-template for Word and LaTeX (version 2e). That is, the format of your paper should be like [this](https://www.acm.org/binaries/content/assets/publications/article-templates/sig-alternate-sample.pdf). The paper has to be <font color=\"red\"> at least 2 pages (excluding references)</font>. "
   ]
  }
 ],
 "metadata": {
  "kernelspec": {
   "display_name": "Python 2",
   "language": "python",
   "name": "python2"
  },
  "language_info": {
   "codemirror_mode": {
    "name": "ipython",
    "version": 2
   },
   "file_extension": ".py",
   "mimetype": "text/x-python",
   "name": "python",
   "nbconvert_exporter": "python",
   "pygments_lexer": "ipython2",
   "version": "2.7.11"
  }
 },
 "nbformat": 4,
 "nbformat_minor": 0
}
